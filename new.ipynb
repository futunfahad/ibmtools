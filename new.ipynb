{
 "cells": [
  {
   "cell_type": "markdown",
   "metadata": {
    "id": "eRXJo1wye7_L"
   },
   "source": [
    "# My Data Science Notebook\n",
    "\n",
    "## Introduction\n",
    "\n",
    "This notebook covers various aspects of data science, including data analysis, machine learning, and data visualization.\n",
    "\n",
    "## Data Science Languages\n",
    "\n",
    "- Python\n",
    "- R\n",
    "- SQL\n",
    "- Julia\n",
    "- Scala\n",
    "\n",
    "## Data Science Libraries\n",
    "\n",
    "- NumPy\n",
    "- Pandas\n",
    "- Matplotlib\n",
    "- Seaborn\n",
    "- Scikit-learn\n",
    "\n",
    "## Data Science Tools\n",
    "\n",
    "| Tool Name        | Description                                |\n",
    "|------------------|--------------------------------------------|\n",
    "| Jupyter Notebook | Interactive computing and data analysis    |\n",
    "| RStudio          | Integrated development environment for R    |\n",
    "| Apache Spark     | Distributed computing framework             |\n",
    "| TensorFlow       | Machine learning library by Google          |\n",
    "| Tableau          | Data visualization and analytics platform   |\n",
    "\n",
    "## Arithmetic Expression Examples and Objectives\n",
    "\n",
    "Let's demonstrate some arithmetic expressions in the following code cells.\n",
    "\n",
    "- Learn about data science languages, libraries, and tools.\n",
    "- Understand basic arithmetic expressions in Python.\n"
   ]
  },
  {
   "cell_type": "code",
   "execution_count": 1,
   "metadata": {
    "colab": {
     "base_uri": "https://localhost:8080/"
    },
    "id": "Me2d1Qwke7Wp",
    "outputId": "9d978fda-ab40-446c-c1d6-21320f840fe8"
   },
   "outputs": [
    {
     "name": "stdout",
     "output_type": "stream",
     "text": [
      "Product: 50\n",
      "Sum: 15\n"
     ]
    }
   ],
   "source": [
    "# Multiply and add numbers\n",
    "a = 5\n",
    "b = 10\n",
    "product = a * b\n",
    "sum = a + b\n",
    "\n",
    "print(\"Product:\", product)\n",
    "print(\"Sum:\", sum)"
   ]
  },
  {
   "cell_type": "code",
   "execution_count": 2,
   "metadata": {},
   "outputs": [
    {
     "name": "stdout",
     "output_type": "stream",
     "text": [
      "Hours: 2.0\n"
     ]
    }
   ],
   "source": [
    "# Convert minutes to hours\n",
    "minutes = 120\n",
    "hours = minutes / 60\n",
    "\n",
    "print(\"Hours:\", hours)\n"
   ]
  },
  {
   "cell_type": "markdown",
   "metadata": {},
   "source": [
    "## Objectives\n",
    "\n",
    "- Learn about data science languages, libraries, and tools.\n",
    "- Understand basic arithmetic expressions in Python.\n",
    "- Convert units of time."
   ]
  },
  {
   "cell_type": "markdown",
   "metadata": {},
   "source": [
    "**Author:** Futun Alqudayri"
   ]
  }
 ],
 "metadata": {
  "colab": {
   "provenance": []
  },
  "kernelspec": {
   "display_name": "Python 3 (ipykernel)",
   "language": "python",
   "name": "python3"
  },
  "language_info": {
   "codemirror_mode": {
    "name": "ipython",
    "version": 3
   },
   "file_extension": ".py",
   "mimetype": "text/x-python",
   "name": "python",
   "nbconvert_exporter": "python",
   "pygments_lexer": "ipython3",
   "version": "3.11.4"
  }
 },
 "nbformat": 4,
 "nbformat_minor": 1
}
